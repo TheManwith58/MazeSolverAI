{
 "cells": [
  {
   "cell_type": "code",
   "execution_count": 1,
   "id": "de5241e5-04db-445d-81cb-9c4496be795e",
   "metadata": {},
   "outputs": [],
   "source": [
    "import os\n"
   ]
  },
  {
   "cell_type": "code",
   "execution_count": 2,
   "id": "4e6e42aa-9a53-4b33-9755-a753afdbf590",
   "metadata": {},
   "outputs": [],
   "source": [
    "folders = ['input_images', 'output_images', 'utils']"
   ]
  },
  {
   "cell_type": "code",
   "execution_count": 3,
   "id": "8b3b5ce9-cfa9-4a70-834b-62b02b1c1617",
   "metadata": {},
   "outputs": [],
   "source": [
    "for folder in folders:\n",
    "    os.makedirs(folder, exist_ok=True)\n",
    "    "
   ]
  },
  {
   "cell_type": "code",
   "execution_count": 4,
   "id": "2ee9032f-da68-47b2-9973-2d30f779460f",
   "metadata": {},
   "outputs": [],
   "source": [
    "open('solver.py', 'w').close()"
   ]
  },
  {
   "cell_type": "code",
   "execution_count": 5,
   "id": "b5734b4f-70b0-48c9-a9a0-dda3866e7c3a",
   "metadata": {},
   "outputs": [],
   "source": [
    "open('utils/image_utils.py', 'w').close()"
   ]
  },
  {
   "cell_type": "code",
   "execution_count": 6,
   "id": "67772d7f-4e1a-4ac1-969f-949e1117ee5c",
   "metadata": {},
   "outputs": [],
   "source": [
    "open('utils/path_utils.py', 'w').close()"
   ]
  },
  {
   "cell_type": "code",
   "execution_count": 7,
   "id": "00df5a32-cb62-48fa-9fdf-ddf678cab1a5",
   "metadata": {},
   "outputs": [],
   "source": [
    "open('requirements.txt', 'w').close()"
   ]
  },
  {
   "cell_type": "code",
   "execution_count": null,
   "id": "764f2ed0-bd19-4443-8285-a1956a5a3d2e",
   "metadata": {},
   "outputs": [],
   "source": []
  }
 ],
 "metadata": {
  "kernelspec": {
   "display_name": "Python 3 (ipykernel)",
   "language": "python",
   "name": "python3"
  },
  "language_info": {
   "codemirror_mode": {
    "name": "ipython",
    "version": 3
   },
   "file_extension": ".py",
   "mimetype": "text/x-python",
   "name": "python",
   "nbconvert_exporter": "python",
   "pygments_lexer": "ipython3",
   "version": "3.13.1"
  }
 },
 "nbformat": 4,
 "nbformat_minor": 5
}
